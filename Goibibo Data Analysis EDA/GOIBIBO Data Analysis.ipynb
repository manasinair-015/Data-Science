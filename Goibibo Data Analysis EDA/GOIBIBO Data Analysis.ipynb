{
 "cells": [
  {
   "cell_type": "code",
   "execution_count": 1,
   "id": "ad3be87d",
   "metadata": {},
   "outputs": [],
   "source": [
    "##Pandas Library\n",
    "import pandas as pd"
   ]
  },
  {
   "cell_type": "code",
   "execution_count": 2,
   "id": "8beb9fb5",
   "metadata": {},
   "outputs": [
    {
     "data": {
      "text/html": [
       "<div>\n",
       "<style scoped>\n",
       "    .dataframe tbody tr th:only-of-type {\n",
       "        vertical-align: middle;\n",
       "    }\n",
       "\n",
       "    .dataframe tbody tr th {\n",
       "        vertical-align: top;\n",
       "    }\n",
       "\n",
       "    .dataframe thead th {\n",
       "        text-align: right;\n",
       "    }\n",
       "</style>\n",
       "<table border=\"1\" class=\"dataframe\">\n",
       "  <thead>\n",
       "    <tr style=\"text-align: right;\">\n",
       "      <th></th>\n",
       "      <th>additional_info</th>\n",
       "      <th>address</th>\n",
       "      <th>area</th>\n",
       "      <th>city</th>\n",
       "      <th>country</th>\n",
       "      <th>crawl_date</th>\n",
       "      <th>guest_recommendation</th>\n",
       "      <th>hotel_brand</th>\n",
       "      <th>hotel_category</th>\n",
       "      <th>hotel_description</th>\n",
       "      <th>...</th>\n",
       "      <th>room_count</th>\n",
       "      <th>room_facilities</th>\n",
       "      <th>room_type</th>\n",
       "      <th>similar_hotel</th>\n",
       "      <th>site_review_count</th>\n",
       "      <th>site_review_rating</th>\n",
       "      <th>site_stay_review_rating</th>\n",
       "      <th>sitename</th>\n",
       "      <th>state</th>\n",
       "      <th>uniq_id</th>\n",
       "    </tr>\n",
       "  </thead>\n",
       "  <tbody>\n",
       "    <tr>\n",
       "      <th>0</th>\n",
       "      <td>Room Service|Internet Access|Restaurant|Free I...</td>\n",
       "      <td>15th Mile, N.H.21,Manali, District Kullu,Himac...</td>\n",
       "      <td>Others</td>\n",
       "      <td>Manali</td>\n",
       "      <td>India</td>\n",
       "      <td>2016-07-24</td>\n",
       "      <td>85.0</td>\n",
       "      <td>NaN</td>\n",
       "      <td>gostays</td>\n",
       "      <td>The standard check-in time is 12:00 PM and the...</td>\n",
       "      <td>...</td>\n",
       "      <td>17</td>\n",
       "      <td>Room Service |Basic Bathroom Amenities|Cable /...</td>\n",
       "      <td>Deluxe Room</td>\n",
       "      <td>https://www.goibibo.com/hotels/woodchime-homes...</td>\n",
       "      <td>87.0</td>\n",
       "      <td>4.0</td>\n",
       "      <td>Service Quality::3.9|Amenities::3.7|Food and D...</td>\n",
       "      <td>goibibo</td>\n",
       "      <td>Himachal Pradesh</td>\n",
       "      <td>2c8db027d43a9452a43e88eb30d9f983</td>\n",
       "    </tr>\n",
       "    <tr>\n",
       "      <th>1</th>\n",
       "      <td>Room Service|Gym/Spa</td>\n",
       "      <td>A-585, Sushant Lok-1 ,Near Iffco Chowk Metro S...</td>\n",
       "      <td>Sushant Lok</td>\n",
       "      <td>Gurgaon</td>\n",
       "      <td>India</td>\n",
       "      <td>2016-07-24</td>\n",
       "      <td>87.0</td>\n",
       "      <td>NaN</td>\n",
       "      <td>regular</td>\n",
       "      <td>The standard check-in time is 12:00 PM and the...</td>\n",
       "      <td>...</td>\n",
       "      <td>18</td>\n",
       "      <td>Room Service |Air Conditioning |Basic Bathroom...</td>\n",
       "      <td>Deluxe Room With Free WIFI</td>\n",
       "      <td>https://www.goibibo.com/hotels/stepinn-iffco-c...</td>\n",
       "      <td>8.0</td>\n",
       "      <td>4.5</td>\n",
       "      <td>Service Quality::4.7|Amenities::4.7|Food and D...</td>\n",
       "      <td>goibibo</td>\n",
       "      <td>Haryana</td>\n",
       "      <td>e98f69f889c0235e6dc480e7df6de0de</td>\n",
       "    </tr>\n",
       "    <tr>\n",
       "      <th>2</th>\n",
       "      <td>Restaurant|Swimming Pool</td>\n",
       "      <td>Cobra Vaddo,Calungate Baga Road, Bardez, Calan...</td>\n",
       "      <td>Calangute Area</td>\n",
       "      <td>Goa</td>\n",
       "      <td>India</td>\n",
       "      <td>2016-07-24</td>\n",
       "      <td>50.0</td>\n",
       "      <td>NaN</td>\n",
       "      <td>regular</td>\n",
       "      <td>The standard check-in time is 12:00 PM and the...</td>\n",
       "      <td>...</td>\n",
       "      <td>15</td>\n",
       "      <td>Room Service |Air Conditioning |Cable / Satell...</td>\n",
       "      <td>Standard Room</td>\n",
       "      <td>https://www.goibibo.com/hotels/sunrise-beach-r...</td>\n",
       "      <td>2.0</td>\n",
       "      <td>2.5</td>\n",
       "      <td>Service Quality::2.5|Amenities::2.5|Food and D...</td>\n",
       "      <td>goibibo</td>\n",
       "      <td>Goa</td>\n",
       "      <td>9b59d00eaffc273d83000ed7dcda0e83</td>\n",
       "    </tr>\n",
       "    <tr>\n",
       "      <th>3</th>\n",
       "      <td>NaN</td>\n",
       "      <td>Simsa</td>\n",
       "      <td>Village Simsa</td>\n",
       "      <td>Manali</td>\n",
       "      <td>India</td>\n",
       "      <td>2016-07-24</td>\n",
       "      <td>100.0</td>\n",
       "      <td>NaN</td>\n",
       "      <td>regular</td>\n",
       "      <td>The standard check-in time is 12:00 PM and the...</td>\n",
       "      <td>...</td>\n",
       "      <td>24</td>\n",
       "      <td>Basic Bathroom Amenities|Cable / Satellite / P...</td>\n",
       "      <td>Deluxe Room</td>\n",
       "      <td>https://www.goibibo.com/hotels/green-cottages-...</td>\n",
       "      <td>1.0</td>\n",
       "      <td>5.0</td>\n",
       "      <td>Service Quality::5.0|Amenities::5.0|Food and D...</td>\n",
       "      <td>goibibo</td>\n",
       "      <td>Himachal Pradesh</td>\n",
       "      <td>df0971f9c5501af112485ee28b468ce5</td>\n",
       "    </tr>\n",
       "    <tr>\n",
       "      <th>4</th>\n",
       "      <td>Internet Access|Restaurant</td>\n",
       "      <td>8180 Street No.-6,Arakashan Road,Paharganj</td>\n",
       "      <td>Paharganj</td>\n",
       "      <td>Delhi</td>\n",
       "      <td>India</td>\n",
       "      <td>2016-07-24</td>\n",
       "      <td>63.0</td>\n",
       "      <td>NaN</td>\n",
       "      <td>regular</td>\n",
       "      <td>The standard check-in time is 12:00 PM and the...</td>\n",
       "      <td>...</td>\n",
       "      <td>20</td>\n",
       "      <td>Basic Bathroom Amenities|Cable / Satellite / P...</td>\n",
       "      <td>Standard Room Non AC</td>\n",
       "      <td>https://www.goibibo.com/hotels/delhi-continent...</td>\n",
       "      <td>121.0</td>\n",
       "      <td>2.8</td>\n",
       "      <td>Service Quality::2.7|Amenities::2.6|Food and D...</td>\n",
       "      <td>goibibo</td>\n",
       "      <td>Delhi</td>\n",
       "      <td>0c3514344c9cda8718f558e84bdb44ef</td>\n",
       "    </tr>\n",
       "  </tbody>\n",
       "</table>\n",
       "<p>5 rows × 36 columns</p>\n",
       "</div>"
      ],
      "text/plain": [
       "                                     additional_info  \\\n",
       "0  Room Service|Internet Access|Restaurant|Free I...   \n",
       "1                               Room Service|Gym/Spa   \n",
       "2                           Restaurant|Swimming Pool   \n",
       "3                                                NaN   \n",
       "4                         Internet Access|Restaurant   \n",
       "\n",
       "                                             address            area     city  \\\n",
       "0  15th Mile, N.H.21,Manali, District Kullu,Himac...          Others   Manali   \n",
       "1  A-585, Sushant Lok-1 ,Near Iffco Chowk Metro S...     Sushant Lok  Gurgaon   \n",
       "2  Cobra Vaddo,Calungate Baga Road, Bardez, Calan...  Calangute Area      Goa   \n",
       "3                                              Simsa   Village Simsa   Manali   \n",
       "4         8180 Street No.-6,Arakashan Road,Paharganj       Paharganj    Delhi   \n",
       "\n",
       "  country  crawl_date  guest_recommendation hotel_brand hotel_category  \\\n",
       "0   India  2016-07-24                  85.0         NaN        gostays   \n",
       "1   India  2016-07-24                  87.0         NaN        regular   \n",
       "2   India  2016-07-24                  50.0         NaN        regular   \n",
       "3   India  2016-07-24                 100.0         NaN        regular   \n",
       "4   India  2016-07-24                  63.0         NaN        regular   \n",
       "\n",
       "                                   hotel_description  ... room_count  \\\n",
       "0  The standard check-in time is 12:00 PM and the...  ...         17   \n",
       "1  The standard check-in time is 12:00 PM and the...  ...         18   \n",
       "2  The standard check-in time is 12:00 PM and the...  ...         15   \n",
       "3  The standard check-in time is 12:00 PM and the...  ...         24   \n",
       "4  The standard check-in time is 12:00 PM and the...  ...         20   \n",
       "\n",
       "                                     room_facilities  \\\n",
       "0  Room Service |Basic Bathroom Amenities|Cable /...   \n",
       "1  Room Service |Air Conditioning |Basic Bathroom...   \n",
       "2  Room Service |Air Conditioning |Cable / Satell...   \n",
       "3  Basic Bathroom Amenities|Cable / Satellite / P...   \n",
       "4  Basic Bathroom Amenities|Cable / Satellite / P...   \n",
       "\n",
       "                    room_type  \\\n",
       "0                 Deluxe Room   \n",
       "1  Deluxe Room With Free WIFI   \n",
       "2               Standard Room   \n",
       "3                 Deluxe Room   \n",
       "4        Standard Room Non AC   \n",
       "\n",
       "                                       similar_hotel site_review_count  \\\n",
       "0  https://www.goibibo.com/hotels/woodchime-homes...              87.0   \n",
       "1  https://www.goibibo.com/hotels/stepinn-iffco-c...               8.0   \n",
       "2  https://www.goibibo.com/hotels/sunrise-beach-r...               2.0   \n",
       "3  https://www.goibibo.com/hotels/green-cottages-...               1.0   \n",
       "4  https://www.goibibo.com/hotels/delhi-continent...             121.0   \n",
       "\n",
       "   site_review_rating                            site_stay_review_rating  \\\n",
       "0                 4.0  Service Quality::3.9|Amenities::3.7|Food and D...   \n",
       "1                 4.5  Service Quality::4.7|Amenities::4.7|Food and D...   \n",
       "2                 2.5  Service Quality::2.5|Amenities::2.5|Food and D...   \n",
       "3                 5.0  Service Quality::5.0|Amenities::5.0|Food and D...   \n",
       "4                 2.8  Service Quality::2.7|Amenities::2.6|Food and D...   \n",
       "\n",
       "  sitename             state                           uniq_id  \n",
       "0  goibibo  Himachal Pradesh  2c8db027d43a9452a43e88eb30d9f983  \n",
       "1  goibibo           Haryana  e98f69f889c0235e6dc480e7df6de0de  \n",
       "2  goibibo               Goa  9b59d00eaffc273d83000ed7dcda0e83  \n",
       "3  goibibo  Himachal Pradesh  df0971f9c5501af112485ee28b468ce5  \n",
       "4  goibibo             Delhi  0c3514344c9cda8718f558e84bdb44ef  \n",
       "\n",
       "[5 rows x 36 columns]"
      ]
     },
     "execution_count": 2,
     "metadata": {},
     "output_type": "execute_result"
    }
   ],
   "source": [
    "#import dataset\n",
    "df = pd.read_csv(\"goibibo_com-travel_sample.csv\")\n",
    "df.head()"
   ]
  },
  {
   "cell_type": "code",
   "execution_count": 3,
   "id": "ae963fe4",
   "metadata": {},
   "outputs": [
    {
     "name": "stdout",
     "output_type": "stream",
     "text": [
      "4000\n",
      "36\n"
     ]
    }
   ],
   "source": [
    "#total no of rows\n",
    "print(max(df.count()))\n",
    "\n",
    "#total no of columns\n",
    "print(len(df.columns))"
   ]
  },
  {
   "cell_type": "code",
   "execution_count": 7,
   "id": "a10419d1",
   "metadata": {},
   "outputs": [
    {
     "data": {
      "text/plain": [
       "(4000, 36)"
      ]
     },
     "execution_count": 7,
     "metadata": {},
     "output_type": "execute_result"
    }
   ],
   "source": [
    "df.shape"
   ]
  },
  {
   "cell_type": "code",
   "execution_count": 8,
   "id": "a07b9931",
   "metadata": {},
   "outputs": [
    {
     "data": {
      "text/plain": [
       "15"
      ]
     },
     "execution_count": 8,
     "metadata": {},
     "output_type": "execute_result"
    }
   ],
   "source": [
    "#to check for columns with NULL values\n",
    "df.isnull().any()          # additional_info, area, guest_rec, hotel_brand, hotel_description, hotel_facilities, locality, poi, qts etc have null values\n",
    "sum(df.isnull().any())     # 15\n",
    "#df.isnull().sum()"
   ]
  },
  {
   "cell_type": "code",
   "execution_count": 9,
   "id": "633c5da2",
   "metadata": {
    "scrolled": true
   },
   "outputs": [],
   "source": [
    "#display all columns and their data types\n",
    "#df.info()"
   ]
  },
  {
   "cell_type": "markdown",
   "id": "f8206c89",
   "metadata": {},
   "source": [
    "## Data Analysis using Pandas, Numpy and Matplotlib "
   ]
  },
  {
   "cell_type": "code",
   "execution_count": 44,
   "id": "e5e94dd9",
   "metadata": {},
   "outputs": [],
   "source": [
    "import numpy as np\n",
    "import matplotlib.pyplot as plt"
   ]
  },
  {
   "cell_type": "markdown",
   "id": "3a3c686b",
   "metadata": {},
   "source": [
    "##### Ques 1]  Find no of review ratings in various ranges of ratings."
   ]
  },
  {
   "cell_type": "code",
   "execution_count": 8,
   "id": "5f238773",
   "metadata": {},
   "outputs": [
    {
     "name": "stdout",
     "output_type": "stream",
     "text": [
      "1584\n",
      "[4.  4.5 2.5 5.  2.8 3.9 nan 3.  4.3 4.6 3.6 1.  4.2 3.2 2.9 1.6 4.1 3.4\n",
      " 3.5 4.4 3.1 2.7 3.8 1.3 3.7 0.  3.3 4.8 4.7 2.  2.1 4.9 2.3 2.4 1.7 2.6\n",
      " 1.8 1.5 2.2 1.9 1.4]\n"
     ]
    }
   ],
   "source": [
    "df['site_review_rating'].unique()\n",
    "#print(sum(df['site_review_rating'] > 4))\n",
    "#print(sum((df['site_review_rating'] > 3) & (df['site_review_rating'] <= 4)))\n",
    "#print(sum((df['site_review_rating'] > 2) & (df['site_review_rating'] <= 3)))\n",
    "#print(sum((df['site_review_rating'] > 1) & (df['site_review_rating'] <= 2)))\n",
    "#print(sum((df['site_review_rating'] >= 0) & (df['site_review_rating'] <= 1)))\n",
    "#print(sum(df['site_review_rating'] == 0))\n",
    "print(df['site_review_rating'].isna().sum())\n",
    "print(df['site_review_rating'].unique())\n"
   ]
  },
  {
   "cell_type": "code",
   "execution_count": 9,
   "id": "2dda58d9",
   "metadata": {},
   "outputs": [
    {
     "name": "stdout",
     "output_type": "stream",
     "text": [
      "5.0\n"
     ]
    }
   ],
   "source": [
    "print(max(df['site_review_rating']))"
   ]
  },
  {
   "cell_type": "markdown",
   "id": "0da49a8c",
   "metadata": {},
   "source": [
    "##### Ques 2]  Plot Pie Chart for different Ratings"
   ]
  },
  {
   "cell_type": "code",
   "execution_count": 45,
   "id": "80b3621b",
   "metadata": {},
   "outputs": [],
   "source": [
    "a = sum(df['site_review_rating'] > 4)\n",
    "b = sum((df['site_review_rating'] > 3) & (df['site_review_rating'] <= 4))\n",
    "c = sum((df['site_review_rating'] > 2) & (df['site_review_rating'] <= 3))\n",
    "d = sum((df['site_review_rating'] > 1) & (df['site_review_rating'] <= 2))\n",
    "e = sum((df['site_review_rating'] >= 0) & (df['site_review_rating'] <= 1))\n",
    "\n",
    "null_rating = df['site_review_rating'].isna().sum()"
   ]
  },
  {
   "cell_type": "code",
   "execution_count": 46,
   "id": "cd3789e3",
   "metadata": {},
   "outputs": [
    {
     "data": {
      "image/png": "[encoded data removed]",
      "text/plain": [
       "<Figure size 640x480 with 1 Axes>"
      ]
     },
     "metadata": {},
     "output_type": "display_data"
    }
   ],
   "source": [
    "y = np.array([a ,b ,c ,d ,e , null_rating])\n",
    "mylabels = [\"A: Rating > 4\",\"B: 4 >= Rating > 3\",\"C: 3 >= Rating > 2\",\"D: 2 >= Rating > 1\",\"E: 1 >= Rating >= 0\",\"No Rating\"]\n",
    "rating_list = [\"A\",\"B\",\"C\",\"D\",\"E\",\"NO RATING\"]\n",
    "explode_val = (0, 0.1, 0.2, 0.1, 0.6, 0.1)\n",
    "plt.pie(y, labels = rating_list, autopct = '%1.1f%%', explode = explode_val, shadow = True)\n",
    "plt.legend(labels = mylabels, title = \"Review Rating on Website\\n\", loc='upper right', bbox_to_anchor=(1.8,1))\n",
    "plt.show() "
   ]
  },
  {
   "cell_type": "code",
   "execution_count": 47,
   "id": "d3fbb351",
   "metadata": {},
   "outputs": [
    {
     "name": "stdout",
     "output_type": "stream",
     "text": [
      "['India']\n",
      "['goibibo']\n",
      "['Himachal Pradesh' 'Haryana' 'Goa' 'Delhi' 'Rajasthan' 'Assam'\n",
      " 'Uttar Pradesh' 'Tamil Nadu' 'Gujarat' 'Kerala' 'Maharashtra'\n",
      " 'West Bengal' 'Jammu and Kashmir' 'Karnataka' 'Punjab' 'Uttarakhand'\n",
      " 'Andhra Pradesh' 'Madhya Pradesh' 'Sikkim' 'Orissa'\n",
      " 'Andaman and Nicobar Islands' 'Bihar' 'Mizoram' 'Jharkhand'\n",
      " 'Chhattisgarh' 'Pondicherry' 'Meghalaya' 'Tripura'\n",
      " 'Dadra and Nagar Haveli' 'Nagaland' 'Arunachal Pradesh' 'Telangana'\n",
      " 'DELHI' 'KARNATAKA' 'GOA' 'KERALA' 'MAHARASHTRA' 'TAMIL NADU'\n",
      " 'ANDHRA PRADESH']\n",
      "['Deluxe Room' 'Deluxe Room With Free WIFI' 'Standard Room' ...\n",
      " 'Standard Executive Room' 'Two bed AC Room' 'Gold Room']\n",
      "['gostays' 'regular']\n"
     ]
    }
   ],
   "source": [
    "####roughhh\n",
    "print(df['country'].unique())\n",
    "print(df['sitename'].unique())\n",
    "print(df['state'].unique())\n",
    "print(df['room_type'].unique())\n",
    "print(df['hotel_category'].unique())"
   ]
  },
  {
   "cell_type": "code",
   "execution_count": 48,
   "id": "be518e1c",
   "metadata": {},
   "outputs": [
    {
     "name": "stdout",
     "output_type": "stream",
     "text": [
      "['2016-07-24' '2016-08-07' '2016-07-03' '2016-07-31' '2016-08-28'\n",
      " '2016-06-26' '2016-08-21']\n",
      "[nan 'Leisure Hotels' 'Siesta Hospitality Services Limited'\n",
      " 'Tree House Hotels &amp; Resorts' 'Avasa' 'Camp Chrysalid' 'Clarks Inn'\n",
      " 'Central Group of Hotels' 'Chandana Group of Hotels'\n",
      " '1589 Hotels Pvt. Ltd.' 'Cambay group of hotels and resorts'\n",
      " 'Jungle Lodges' 'Mango Suites of Hotels' 'CGH Group'\n",
      " 'Chalet Group of Hotels' 'Bodhgaya Group of Hotels' 'Amritara Group'\n",
      " 'Awesome Stays' 'Carmelia Hotels &amp; Resorts' 'Choice Hotels'\n",
      " 'Club Mahindra Group' 'Pine Hood Hotels &amp; Resorts' 'Carlson Rezidor'\n",
      " 'Country Club Group of Hotels' 'M.P. State Tourism Dev. Corp. Ltd'\n",
      " 'citrus hotels' 'Delight Hotels Private Limited' 'Cynosure Group'\n",
      " 'India Group of Hotels' 'Compact Group' 'Fortune Hotels' 'Executel'\n",
      " 'Executive Comfort Group of Hotels' 'FabHotels' 'Seasons Hotels'\n",
      " 'Executive Service Apartment' 'Starwood Hotels' 'Swati Group of Hotels'\n",
      " 'STAY SIMPLE' 'Sarovar Group of Hotels' 'Sparsa Group'\n",
      " 'Siris 18 Group of hotels' 'Sinclairs Group of Hotels'\n",
      " 'SK Group of Hotels' 'OliveServiceApartments' 'STEPiNN'\n",
      " 'Rose Valley Group of Hotels' 'Summit Group of Hotels' 'Chevron Group'\n",
      " 'Berries Group of Hotels' 'KTDC Group' 'Country Inn' 'Treebo Hotels'\n",
      " 'Niche India Group' 'Sterling group of hotels' 'Seaview Group'\n",
      " 'Platinum Hotels Group' 'Sweet Home Group of Hotels' 'HPTDC'\n",
      " 'Pine Spring' 'The Oberoi Group' 'Golden Tulip'\n",
      " 'Panoramic Group of Hotels' 'UNA Group' 'The Windflower Group'\n",
      " 'Sana Group Of Hotels' 'U.G Group' 'Zuri Group' 'Grand Melange Hotels'\n",
      " 'The Serai' 'Taj Hotels Resorts &amp; Palaces' 'Residency Group'\n",
      " 'TreeofLife' 'Concept Hospitality'\n",
      " 'Platinum Stays Hotels and Resorts Group' 'Lords Hotels &amp; Resorts'\n",
      " 'Tune' 'Tivoli Group of hotels' 'Treebo' 'SerendipityO Groups'\n",
      " 'Laurent and Benon Group' 'Royal Orchid Group' 'Spree Hotels'\n",
      " 'Savera Group of hotels' 'Classic Group' 'Room On Call' 'WelcomHeritage'\n",
      " 'Vedanta Wake up Group of Hotels' 'Usha Lexus' 'GuildHotel' 'Wudstay'\n",
      " 'ITC' 'Lalit group of hotels' 'Vista Group of Hotels'\n",
      " 'Avion group of hotels' 'GRT Group of Hotels']\n"
     ]
    }
   ],
   "source": [
    "####roughhh\n",
    "print(df['crawl_date'].unique())\n",
    "print(df['hotel_brand'].unique())"
   ]
  },
  {
   "cell_type": "markdown",
   "id": "e4fa095a",
   "metadata": {},
   "source": [
    "##### Ques 3]  Find no of hotel categories and their count."
   ]
  },
  {
   "cell_type": "code",
   "execution_count": 49,
   "id": "1fe46eb8",
   "metadata": {},
   "outputs": [
    {
     "name": "stdout",
     "output_type": "stream",
     "text": [
      "['gostays' 'regular']\n",
      "129\n",
      "3871\n",
      "0\n"
     ]
    }
   ],
   "source": [
    "print(df['hotel_category'].unique())\n",
    "print(sum(df['hotel_category'] == 'gostays'))\n",
    "print(sum(df['hotel_category'] == 'regular'))\n",
    "print(df['hotel_category'].isna().sum())"
   ]
  },
  {
   "cell_type": "markdown",
   "id": "f3b854c7",
   "metadata": {},
   "source": [
    "##### Ques 4]  Plot a Bar Graph for hotel categories."
   ]
  },
  {
   "cell_type": "code",
   "execution_count": 50,
   "id": "4da3284f",
   "metadata": {},
   "outputs": [
    {
     "name": "stdout",
     "output_type": "stream",
     "text": [
      "No of hotels provinding Gostay rooms:  129\n",
      "No of hotels provinding Regular rooms:  3871\n"
     ]
    },
    {
     "data": {
      "image/png": "[encoded data removed]",
      "text/plain": [
       "<Figure size 500x500 with 1 Axes>"
      ]
     },
     "metadata": {},
     "output_type": "display_data"
    }
   ],
   "source": [
    "go = sum(df['hotel_category'] == 'gostays')\n",
    "reg = sum(df['hotel_category'] == 'regular')\n",
    "\n",
    "print(\"No of hotels provinding Gostay rooms: \", go)\n",
    "print(\"No of hotels provinding Regular rooms: \", reg)\n",
    "\n",
    "x = ['GoStays','Regular']\n",
    "y = [go, reg]\n",
    "\n",
    "fig = plt.figure(figsize = (5, 5))\n",
    " \n",
    "# creating the bar plot\n",
    "plt.bar(x, y, color ='blue',width = 0.2)\n",
    " \n",
    "plt.xlabel(\"Hotel Category\")\n",
    "plt.ylabel(\"No. of hotels in a particular Category\")\n",
    "plt.title(\"Hotel Category VS No. of hotels in a particular Category\")\n",
    "plt.show()"
   ]
  },
  {
   "cell_type": "markdown",
   "id": "e59a2b60",
   "metadata": {},
   "source": [
    "##### Ques 5] Display hotel details having maximum rooms. "
   ]
  },
  {
   "cell_type": "code",
   "execution_count": 218,
   "id": "95b05a7c",
   "metadata": {},
   "outputs": [
    {
     "name": "stdout",
     "output_type": "stream",
     "text": [
      "5874\n"
     ]
    }
   ],
   "source": [
    "print(max(df['room_count']))"
   ]
  },
  {
   "cell_type": "code",
   "execution_count": 220,
   "id": "4639e9d3",
   "metadata": {},
   "outputs": [
    {
     "data": {
      "text/html": [
       "<div>\n",
       "<style scoped>\n",
       "    .dataframe tbody tr th:only-of-type {\n",
       "        vertical-align: middle;\n",
       "    }\n",
       "\n",
       "    .dataframe tbody tr th {\n",
       "        vertical-align: top;\n",
       "    }\n",
       "\n",
       "    .dataframe thead th {\n",
       "        text-align: right;\n",
       "    }\n",
       "</style>\n",
       "<table border=\"1\" class=\"dataframe\">\n",
       "  <thead>\n",
       "    <tr style=\"text-align: right;\">\n",
       "      <th></th>\n",
       "      <th>additional_info</th>\n",
       "      <th>address</th>\n",
       "      <th>area</th>\n",
       "      <th>city</th>\n",
       "      <th>country</th>\n",
       "      <th>crawl_date</th>\n",
       "      <th>guest_recommendation</th>\n",
       "      <th>hotel_brand</th>\n",
       "      <th>hotel_category</th>\n",
       "      <th>hotel_description</th>\n",
       "      <th>...</th>\n",
       "      <th>room_count</th>\n",
       "      <th>room_facilities</th>\n",
       "      <th>room_type</th>\n",
       "      <th>similar_hotel</th>\n",
       "      <th>site_review_count</th>\n",
       "      <th>site_review_rating</th>\n",
       "      <th>site_stay_review_rating</th>\n",
       "      <th>sitename</th>\n",
       "      <th>state</th>\n",
       "      <th>uniq_id</th>\n",
       "    </tr>\n",
       "  </thead>\n",
       "  <tbody>\n",
       "    <tr>\n",
       "      <th>2399</th>\n",
       "      <td>Room Service|Internet Access|Gym/Spa|Restaurant</td>\n",
       "      <td>Trishul Desert Resort , Khuri,</td>\n",
       "      <td>Khuri</td>\n",
       "      <td>Jaisalmer</td>\n",
       "      <td>India</td>\n",
       "      <td>2016-08-28</td>\n",
       "      <td>83.0</td>\n",
       "      <td>NaN</td>\n",
       "      <td>regular</td>\n",
       "      <td>The standard check-in time is 12:00 PM and the...</td>\n",
       "      <td>...</td>\n",
       "      <td>5874</td>\n",
       "      <td>Alarm Clock|Ceiling Fan|Full Kitchen|Newspaper...</td>\n",
       "      <td>Deluxe Swiss Luxury Breakfast and dinner</td>\n",
       "      <td>https://www.goibibo.com/hotels/badal-house-hot...</td>\n",
       "      <td>12.0</td>\n",
       "      <td>3.9</td>\n",
       "      <td>Service Quality::4.1|Amenities::3.9|Food and D...</td>\n",
       "      <td>goibibo</td>\n",
       "      <td>Rajasthan</td>\n",
       "      <td>7ed4aea8cfca9f46fcd072d036646b77</td>\n",
       "    </tr>\n",
       "  </tbody>\n",
       "</table>\n",
       "<p>1 rows × 36 columns</p>\n",
       "</div>"
      ],
      "text/plain": [
       "                                      additional_info  \\\n",
       "2399  Room Service|Internet Access|Gym/Spa|Restaurant   \n",
       "\n",
       "                             address   area       city country  crawl_date  \\\n",
       "2399  Trishul Desert Resort , Khuri,  Khuri  Jaisalmer   India  2016-08-28   \n",
       "\n",
       "      guest_recommendation hotel_brand hotel_category  \\\n",
       "2399                  83.0         NaN        regular   \n",
       "\n",
       "                                      hotel_description  ... room_count  \\\n",
       "2399  The standard check-in time is 12:00 PM and the...  ...       5874   \n",
       "\n",
       "                                        room_facilities  \\\n",
       "2399  Alarm Clock|Ceiling Fan|Full Kitchen|Newspaper...   \n",
       "\n",
       "                                     room_type  \\\n",
       "2399  Deluxe Swiss Luxury Breakfast and dinner   \n",
       "\n",
       "                                          similar_hotel site_review_count  \\\n",
       "2399  https://www.goibibo.com/hotels/badal-house-hot...              12.0   \n",
       "\n",
       "      site_review_rating                            site_stay_review_rating  \\\n",
       "2399                 3.9  Service Quality::4.1|Amenities::3.9|Food and D...   \n",
       "\n",
       "     sitename      state                           uniq_id  \n",
       "2399  goibibo  Rajasthan  7ed4aea8cfca9f46fcd072d036646b77  \n",
       "\n",
       "[1 rows x 36 columns]"
      ]
     },
     "execution_count": 220,
     "metadata": {},
     "output_type": "execute_result"
    }
   ],
   "source": [
    "df[(df['room_count'] == max(df['room_count']))]"
   ]
  },
  {
   "cell_type": "markdown",
   "id": "f3bc2d14",
   "metadata": {},
   "source": [
    "##### Ques 6] Arrange the hotels according to the number of rooms available (in different ranges : >500, >100, >10, <10)."
   ]
  },
  {
   "cell_type": "code",
   "execution_count": 33,
   "id": "2dc4f4c6",
   "metadata": {},
   "outputs": [],
   "source": [
    "a1 = sum((df['room_count'] > 100))\n",
    "c1 = sum((df['room_count'] > 50) & (df['room_count'] <= 100))\n",
    "c2 = sum((df['room_count'] > 25) & (df['room_count'] <= 50))\n",
    "d1 = sum((df['room_count'] > 10) & (df['room_count'] <= 25))         \n",
    "e1 = sum((df['room_count'] > 0) & (df['room_count'] <= 10))\n",
    "\n",
    "\n",
    "#total = a1+a2+b1+b2+c1+c2+d1+d2+e1+e2\n",
    "#print(total)\n",
    "#print(df['room_count'].count())"
   ]
  },
  {
   "cell_type": "code",
   "execution_count": 51,
   "id": "b299a37a",
   "metadata": {},
   "outputs": [
    {
     "data": {
      "image/png": "[encoded data removed]",
      "text/plain": [
       "<Figure size 640x480 with 1 Axes>"
      ]
     },
     "metadata": {},
     "output_type": "display_data"
    }
   ],
   "source": [
    "\n",
    "mylabels = ['>100','>50','>25','>10','>0']\n",
    "pie_plot = [a1,c1,c2,d1,e1]\n",
    "\n",
    "  \n",
    "plt.pie(pie_plot, labels = mylabels, autopct = '%1.1f%%')\n",
    "plt.legend(labels = mylabels, title = \"Room Availability\\n\", loc='upper right', bbox_to_anchor=(1.8,1))\n",
    "plt.show() "
   ]
  },
  {
   "cell_type": "markdown",
   "id": "8e927eb0",
   "metadata": {},
   "source": [
    "##### Ques 7] Count no of states and in each state how many hotels are present? "
   ]
  },
  {
   "cell_type": "code",
   "execution_count": 52,
   "id": "c92d37d6",
   "metadata": {},
   "outputs": [
    {
     "name": "stdout",
     "output_type": "stream",
     "text": [
      "0\n",
      "['Himachal Pradesh' 'Haryana' 'Goa' 'Delhi' 'Rajasthan' 'Assam'\n",
      " 'Uttar Pradesh' 'Tamil Nadu' 'Gujarat' 'Kerala' 'Maharashtra'\n",
      " 'West Bengal' 'Jammu and Kashmir' 'Karnataka' 'Punjab' 'Uttarakhand'\n",
      " 'Andhra Pradesh' 'Madhya Pradesh' 'Sikkim' 'Orissa'\n",
      " 'Andaman and Nicobar Islands' 'Bihar' 'Mizoram' 'Jharkhand'\n",
      " 'Chhattisgarh' 'Pondicherry' 'Meghalaya' 'Tripura'\n",
      " 'Dadra and Nagar Haveli' 'Nagaland' 'Arunachal Pradesh' 'Telangana'\n",
      " 'DELHI' 'KARNATAKA' 'GOA' 'KERALA' 'MAHARASHTRA' 'TAMIL NADU'\n",
      " 'ANDHRA PRADESH']\n",
      "39\n"
     ]
    }
   ],
   "source": [
    "print(df['state'].isna().sum()) # no null values\n",
    "print(df['state'].unique())\n",
    "length1 = len(df['state'].unique())\n",
    "print(length1)\n",
    "#some states are mentioned twice. once in lower case and once in upper case.\n",
    "#we can deal with this by converting all the states to lower case"
   ]
  },
  {
   "cell_type": "code",
   "execution_count": 53,
   "id": "c8ca2976",
   "metadata": {},
   "outputs": [
    {
     "name": "stdout",
     "output_type": "stream",
     "text": [
      "32\n"
     ]
    }
   ],
   "source": [
    "#some states are mentioned twice. once in lower case and once in upper case.\n",
    "#we can deal with this by converting all the states to lower case\n",
    "df['state'] = df['state'].str.lower()\n",
    "df['state'] = df['state'].str.capitalize()\n",
    "length2 = len(df['state'].unique())\n",
    "print(length2)\n",
    "###so, names of 7 states were repeated."
   ]
  },
  {
   "cell_type": "code",
   "execution_count": 56,
   "id": "e2899d97",
   "metadata": {},
   "outputs": [
    {
     "data": {
      "text/html": [
       "<div>\n",
       "<style scoped>\n",
       "    .dataframe tbody tr th:only-of-type {\n",
       "        vertical-align: middle;\n",
       "    }\n",
       "\n",
       "    .dataframe tbody tr th {\n",
       "        vertical-align: top;\n",
       "    }\n",
       "\n",
       "    .dataframe thead th {\n",
       "        text-align: right;\n",
       "    }\n",
       "</style>\n",
       "<table border=\"1\" class=\"dataframe\">\n",
       "  <thead>\n",
       "    <tr style=\"text-align: right;\">\n",
       "      <th></th>\n",
       "      <th>uniq_id</th>\n",
       "    </tr>\n",
       "    <tr>\n",
       "      <th>state</th>\n",
       "      <th></th>\n",
       "    </tr>\n",
       "  </thead>\n",
       "  <tbody>\n",
       "    <tr>\n",
       "      <th>Andaman and nicobar islands</th>\n",
       "      <td>21</td>\n",
       "    </tr>\n",
       "    <tr>\n",
       "      <th>Andhra pradesh</th>\n",
       "      <td>167</td>\n",
       "    </tr>\n",
       "    <tr>\n",
       "      <th>Arunachal pradesh</th>\n",
       "      <td>1</td>\n",
       "    </tr>\n",
       "    <tr>\n",
       "      <th>Assam</th>\n",
       "      <td>22</td>\n",
       "    </tr>\n",
       "    <tr>\n",
       "      <th>Bihar</th>\n",
       "      <td>34</td>\n",
       "    </tr>\n",
       "    <tr>\n",
       "      <th>Chhattisgarh</th>\n",
       "      <td>20</td>\n",
       "    </tr>\n",
       "    <tr>\n",
       "      <th>Dadra and nagar haveli</th>\n",
       "      <td>4</td>\n",
       "    </tr>\n",
       "    <tr>\n",
       "      <th>Delhi</th>\n",
       "      <td>137</td>\n",
       "    </tr>\n",
       "    <tr>\n",
       "      <th>Goa</th>\n",
       "      <td>222</td>\n",
       "    </tr>\n",
       "    <tr>\n",
       "      <th>Gujarat</th>\n",
       "      <td>155</td>\n",
       "    </tr>\n",
       "    <tr>\n",
       "      <th>Haryana</th>\n",
       "      <td>150</td>\n",
       "    </tr>\n",
       "    <tr>\n",
       "      <th>Himachal pradesh</th>\n",
       "      <td>222</td>\n",
       "    </tr>\n",
       "    <tr>\n",
       "      <th>Jammu and kashmir</th>\n",
       "      <td>125</td>\n",
       "    </tr>\n",
       "    <tr>\n",
       "      <th>Jharkhand</th>\n",
       "      <td>28</td>\n",
       "    </tr>\n",
       "    <tr>\n",
       "      <th>Karnataka</th>\n",
       "      <td>373</td>\n",
       "    </tr>\n",
       "    <tr>\n",
       "      <th>Kerala</th>\n",
       "      <td>348</td>\n",
       "    </tr>\n",
       "    <tr>\n",
       "      <th>Madhya pradesh</th>\n",
       "      <td>159</td>\n",
       "    </tr>\n",
       "    <tr>\n",
       "      <th>Maharashtra</th>\n",
       "      <td>457</td>\n",
       "    </tr>\n",
       "    <tr>\n",
       "      <th>Meghalaya</th>\n",
       "      <td>9</td>\n",
       "    </tr>\n",
       "    <tr>\n",
       "      <th>Mizoram</th>\n",
       "      <td>4</td>\n",
       "    </tr>\n",
       "    <tr>\n",
       "      <th>Nagaland</th>\n",
       "      <td>4</td>\n",
       "    </tr>\n",
       "    <tr>\n",
       "      <th>Orissa</th>\n",
       "      <td>44</td>\n",
       "    </tr>\n",
       "    <tr>\n",
       "      <th>Pondicherry</th>\n",
       "      <td>14</td>\n",
       "    </tr>\n",
       "    <tr>\n",
       "      <th>Punjab</th>\n",
       "      <td>87</td>\n",
       "    </tr>\n",
       "    <tr>\n",
       "      <th>Rajasthan</th>\n",
       "      <td>329</td>\n",
       "    </tr>\n",
       "    <tr>\n",
       "      <th>Sikkim</th>\n",
       "      <td>63</td>\n",
       "    </tr>\n",
       "    <tr>\n",
       "      <th>Tamil nadu</th>\n",
       "      <td>272</td>\n",
       "    </tr>\n",
       "    <tr>\n",
       "      <th>Telangana</th>\n",
       "      <td>1</td>\n",
       "    </tr>\n",
       "    <tr>\n",
       "      <th>Tripura</th>\n",
       "      <td>3</td>\n",
       "    </tr>\n",
       "    <tr>\n",
       "      <th>Uttar pradesh</th>\n",
       "      <td>178</td>\n",
       "    </tr>\n",
       "    <tr>\n",
       "      <th>Uttarakhand</th>\n",
       "      <td>203</td>\n",
       "    </tr>\n",
       "    <tr>\n",
       "      <th>West bengal</th>\n",
       "      <td>144</td>\n",
       "    </tr>\n",
       "  </tbody>\n",
       "</table>\n",
       "</div>"
      ],
      "text/plain": [
       "                             uniq_id\n",
       "state                               \n",
       "Andaman and nicobar islands       21\n",
       "Andhra pradesh                   167\n",
       "Arunachal pradesh                  1\n",
       "Assam                             22\n",
       "Bihar                             34\n",
       "Chhattisgarh                      20\n",
       "Dadra and nagar haveli             4\n",
       "Delhi                            137\n",
       "Goa                              222\n",
       "Gujarat                          155\n",
       "Haryana                          150\n",
       "Himachal pradesh                 222\n",
       "Jammu and kashmir                125\n",
       "Jharkhand                         28\n",
       "Karnataka                        373\n",
       "Kerala                           348\n",
       "Madhya pradesh                   159\n",
       "Maharashtra                      457\n",
       "Meghalaya                          9\n",
       "Mizoram                            4\n",
       "Nagaland                           4\n",
       "Orissa                            44\n",
       "Pondicherry                       14\n",
       "Punjab                            87\n",
       "Rajasthan                        329\n",
       "Sikkim                            63\n",
       "Tamil nadu                       272\n",
       "Telangana                          1\n",
       "Tripura                            3\n",
       "Uttar pradesh                    178\n",
       "Uttarakhand                      203\n",
       "West bengal                      144"
      ]
     },
     "execution_count": 56,
     "metadata": {},
     "output_type": "execute_result"
    }
   ],
   "source": [
    "df.groupby('state')[['uniq_id']].count()"
   ]
  },
  {
   "cell_type": "markdown",
   "id": "fc90d54a",
   "metadata": {},
   "source": [
    "##### Ques 8] Mention Hotel brands that have more than 10 hotels "
   ]
  },
  {
   "cell_type": "code",
   "execution_count": 66,
   "id": "c560a93e",
   "metadata": {},
   "outputs": [
    {
     "name": "stdout",
     "output_type": "stream",
     "text": [
      "96\n"
     ]
    },
    {
     "data": {
      "text/html": [
       "<div>\n",
       "<style scoped>\n",
       "    .dataframe tbody tr th:only-of-type {\n",
       "        vertical-align: middle;\n",
       "    }\n",
       "\n",
       "    .dataframe tbody tr th {\n",
       "        vertical-align: top;\n",
       "    }\n",
       "\n",
       "    .dataframe thead th {\n",
       "        text-align: right;\n",
       "    }\n",
       "</style>\n",
       "<table border=\"1\" class=\"dataframe\">\n",
       "  <thead>\n",
       "    <tr style=\"text-align: right;\">\n",
       "      <th></th>\n",
       "      <th>uniq_id</th>\n",
       "    </tr>\n",
       "    <tr>\n",
       "      <th>hotel_brand</th>\n",
       "      <th></th>\n",
       "    </tr>\n",
       "  </thead>\n",
       "  <tbody>\n",
       "    <tr>\n",
       "      <th>Club Mahindra Group</th>\n",
       "      <td>True</td>\n",
       "    </tr>\n",
       "    <tr>\n",
       "      <th>FabHotels</th>\n",
       "      <td>True</td>\n",
       "    </tr>\n",
       "    <tr>\n",
       "      <th>Fortune Hotels</th>\n",
       "      <td>True</td>\n",
       "    </tr>\n",
       "    <tr>\n",
       "      <th>Leisure Hotels</th>\n",
       "      <td>True</td>\n",
       "    </tr>\n",
       "    <tr>\n",
       "      <th>M.P. State Tourism Dev. Corp. Ltd</th>\n",
       "      <td>True</td>\n",
       "    </tr>\n",
       "    <tr>\n",
       "      <th>Panoramic Group of Hotels</th>\n",
       "      <td>True</td>\n",
       "    </tr>\n",
       "    <tr>\n",
       "      <th>Treebo Hotels</th>\n",
       "      <td>True</td>\n",
       "    </tr>\n",
       "    <tr>\n",
       "      <th>WelcomHeritage</th>\n",
       "      <td>True</td>\n",
       "    </tr>\n",
       "  </tbody>\n",
       "</table>\n",
       "</div>"
      ],
      "text/plain": [
       "                                   uniq_id\n",
       "hotel_brand                               \n",
       "Club Mahindra Group                   True\n",
       "FabHotels                             True\n",
       "Fortune Hotels                        True\n",
       "Leisure Hotels                        True\n",
       "M.P. State Tourism Dev. Corp. Ltd     True\n",
       "Panoramic Group of Hotels             True\n",
       "Treebo Hotels                         True\n",
       "WelcomHeritage                        True"
      ]
     },
     "execution_count": 66,
     "metadata": {},
     "output_type": "execute_result"
    }
   ],
   "source": [
    "#print(df['hotel_brand'].unique())\n",
    "print(len(df['hotel_brand'].unique()))\n",
    "a = df.groupby('hotel_brand')[['uniq_id']].count() >= 10\n",
    "#print(a)\n",
    "a[(a['uniq_id'] == True)]\n",
    "\n",
    "#out of 96 hotel brands, 8 hotel brands have more than 8 hotels in them."
   ]
  },
  {
   "cell_type": "markdown",
   "id": "bd5e9ee8",
   "metadata": {},
   "source": [
    "##### Ques 9] Find number of hotels in each star category"
   ]
  },
  {
   "cell_type": "code",
   "execution_count": 67,
   "id": "ef049dc4",
   "metadata": {},
   "outputs": [
    {
     "name": "stdout",
     "output_type": "stream",
     "text": [
      "[2 0 3 1 4 5]\n",
      "0\n"
     ]
    }
   ],
   "source": [
    "print(df['hotel_star_rating'].unique())\n",
    "print(df['hotel_star_rating'].isna().sum())"
   ]
  },
  {
   "cell_type": "code",
   "execution_count": 68,
   "id": "957e7927",
   "metadata": {},
   "outputs": [
    {
     "name": "stdout",
     "output_type": "stream",
     "text": [
      "No of 5 Star Hotels:  81\n",
      "No of 4 Star Hotels:  233\n",
      "No of 3 Star Hotels:  829\n",
      "No of 2 Star Hotels:  479\n",
      "No of 1 Star Hotels:  442\n",
      "No of 0 Star Hotels:  1936\n"
     ]
    }
   ],
   "source": [
    "a = sum(df['hotel_star_rating'] == 5)\n",
    "b = sum(df['hotel_star_rating'] == 4)\n",
    "c = sum(df['hotel_star_rating'] == 3)\n",
    "d = sum(df['hotel_star_rating'] == 2)\n",
    "e = sum(df['hotel_star_rating'] == 1)\n",
    "f = sum(df['hotel_star_rating'] == 0)\n",
    "\n",
    "print(\"No of 5 Star Hotels: \", a)\n",
    "print(\"No of 4 Star Hotels: \", b)\n",
    "print(\"No of 3 Star Hotels: \", c)\n",
    "print(\"No of 2 Star Hotels: \", d)\n",
    "print(\"No of 1 Star Hotels: \", e)\n",
    "print(\"No of 0 Star Hotels: \", f)\n"
   ]
  },
  {
   "cell_type": "markdown",
   "id": "79e3827c",
   "metadata": {},
   "source": [
    "##### Ques 10] Plot."
   ]
  },
  {
   "cell_type": "code",
   "execution_count": 69,
   "id": "15f9698b",
   "metadata": {},
   "outputs": [
    {
     "data": {
      "image/png": "[encoded data removed]",
      "text/plain": [
       "<Figure size 1000x500 with 1 Axes>"
      ]
     },
     "metadata": {},
     "output_type": "display_data"
    }
   ],
   "source": [
    "x = ['5 Star Rating','4 Star Rating','3 Star Rating','2 Star Rating','1 Star Rating','0 Star Rating']\n",
    "y = [a,b,c,d,e,f]\n",
    "\n",
    "fig = plt.figure(figsize = (10, 5))\n",
    " \n",
    "# creating the bar plot\n",
    "plt.bar(x, y, color ='green',width = 0.2)\n",
    " \n",
    "plt.xlabel(\"Hotel Star Ratings\")\n",
    "plt.ylabel(\"No. of hotels\")\n",
    "plt.title(\"Hotel Star Ratings VS No. of hotels\")\n",
    "    \n",
    "plt.show()"
   ]
  },
  {
   "cell_type": "code",
   "execution_count": null,
   "id": "eae402ab",
   "metadata": {},
   "outputs": [],
   "source": []
  },
  {
   "cell_type": "code",
   "execution_count": null,
   "id": "94cf821b",
   "metadata": {},
   "outputs": [],
   "source": []
  }
 ],
 "metadata": {
  "kernelspec": {
   "display_name": "Python 3 (ipykernel)",
   "language": "python",
   "name": "python3"
  },
  "language_info": {
   "codemirror_mode": {
    "name": "ipython",
    "version": 3
   },
   "file_extension": ".py",
   "mimetype": "text/x-python",
   "name": "python",
   "nbconvert_exporter": "python",
   "pygments_lexer": "ipython3",
   "version": "3.9.13"
  }
 },
 "nbformat": 4,
 "nbformat_minor": 5
}
